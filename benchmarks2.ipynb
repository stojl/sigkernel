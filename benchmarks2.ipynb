{
 "cells": [
  {
   "cell_type": "code",
   "execution_count": 1,
   "metadata": {},
   "outputs": [],
   "source": [
    "import torch\n",
    "import sigkernel2\n",
    "import sigkernel\n",
    "import csv\n",
    "import scipy\n",
    "import timeit\n",
    "import math\n",
    "device = torch.cuda.device('cuda')"
   ]
  },
  {
   "cell_type": "code",
   "execution_count": 2,
   "metadata": {},
   "outputs": [],
   "source": [
    "def generate(batch_size, length, dimension, device = torch.device('cpu')):\n",
    "  random_walks = torch.randn(batch_size, length, dimension, dtype = torch.double, device = device) / math.sqrt(length)\n",
    "  start = torch.zeros([batch_size, 1, dimension], device=device, dtype=torch.double)\n",
    "  random_walks = torch.cat((start, random_walks), dim=1)\n",
    "  random_walks = torch.cumsum(random_walks, dim=1)\n",
    "  return random_walks"
   ]
  },
  {
   "cell_type": "code",
   "execution_count": 18,
   "metadata": {},
   "outputs": [],
   "source": [
    "X = generate(512, 10, 7, device = torch.device('cuda:0'))\n",
    "Y = generate(512, 10, 7, device = torch.device('cuda:0'))\n",
    "Z = generate(512, 10, 7, device = torch.device('cuda:0'))\n",
    "\n",
    "W = Z\n",
    "W[:,:,0:1] = X[:,:,0:1]"
   ]
  },
  {
   "cell_type": "code",
   "execution_count": 37,
   "metadata": {},
   "outputs": [],
   "source": [
    "def median_distance(X, Y):\n",
    "    A = X.shape[0]\n",
    "    M = X.shape[1]\n",
    "    N = Y.shape[1]\n",
    "    Xs = torch.sum(X**2, dim=2)\n",
    "    Ys = torch.sum(Y**2, dim=2)\n",
    "    dist = -2.*torch.bmm(X, Y.permute(0,2,1))\n",
    "    dist += torch.reshape(Xs,(A,M,1)) + torch.reshape(Ys,(A,1,N))\n",
    "    return dist.view(A, -1).median()\n",
    "\n",
    "sig_x = sigkernel2.SigKernel2(sigkernel2.RBFKernel(median_distance(X, X).cpu().item()), 1)\n",
    "sig_y = sigkernel2.SigKernel2(sigkernel2.RBFKernel(median_distance(Y, Y).cpu().item()), 1)\n",
    "sig_z = sigkernel2.SigKernel2(sigkernel2.RBFKernel(median_distance(Z, Z).cpu().item()), 1)\n",
    "sig_w = sigkernel2.SigKernel2(sigkernel2.RBFKernel(median_distance(Z, Z).cpu().item()), 1)"
   ]
  },
  {
   "cell_type": "code",
   "execution_count": 20,
   "metadata": {},
   "outputs": [],
   "source": [
    "KX = sig_x.gram(X, max_batch=64)\n",
    "KY = sig_y.gram(Y, max_batch=64)\n",
    "KZ = sig_z.gram(Z, max_batch=64)\n",
    "KW = sig_w.gram(W, max_batch=64)"
   ]
  },
  {
   "cell_type": "code",
   "execution_count": 6,
   "metadata": {},
   "outputs": [],
   "source": [
    "class HSIC:\n",
    "    def __init__(self, X, Y):\n",
    "        self.n = X.shape[0]\n",
    "        H = -torch.ones((self.n, self.n), device=X.device, dtype=X.dtype) / self.n\n",
    "        H[range(self.n), range(self.n)] = 1 - 1 / self.n\n",
    "        \n",
    "        self.X = X @ H\n",
    "        self.Y = Y @ H\n",
    "        \n",
    "    def test(self, alpha=0.05, perms=1000, max_batch=None):\n",
    "        critical_value = torch.einsum('ij,ji->', self.X, self.Y) / self.n\n",
    "        return {\n",
    "            \"critical_value\": critical_value.cpu().item(),\n",
    "            \"gamma_p_value\": self._gamma_approx(critical_value.cpu().item(), alpha),\n",
    "            \"perm_p_value\": self._perm(critical_value, alpha, perms, max_batch).cpu().item(),\n",
    "            \"mc_p_value\": self._montecarlo(critical_value, alpha, perms, max_batch).cpu().item()\n",
    "        }\n",
    "    \n",
    "    def _gamma_approx(self, value=None, alpha=0.05):\n",
    "        mu, var = self._empirical_moments()\n",
    "        loc = mu**2 / var\n",
    "        scale = var / mu\n",
    "        if value is None:\n",
    "            return scipy.stats.distributions.gamma.ppf(1 - alpha, a = loc.cpu(), scale = scale.cpu())\n",
    "        return scipy.stats.distributions.gamma.sf(value, a = loc.cpu(), scale = scale.cpu())\n",
    "    \n",
    "    def _empirical_moments(self):\n",
    "        mu_X = torch.trace(self.X)\n",
    "        mu_Y = torch.trace(self.Y)\n",
    "        \n",
    "        var_X = torch.einsum('ij,ji->', self.X, self.X)\n",
    "        var_Y = torch.einsum('ij,ji->', self.Y, self.Y)\n",
    "        \n",
    "        return mu_X * mu_Y / self.n**2, 2 * var_X * var_Y / self.n**4\n",
    "    \n",
    "    def _perm(self, value=None, alpha=0.05, m=100, max_batch=None):\n",
    "        max_batch = m if max_batch is None else max_batch\n",
    "        \n",
    "        mb_size = min(m, max_batch)\n",
    "        bm = -(-m // mb_size)\n",
    "        \n",
    "        stats = torch.zeros([m], device=self.X.device, dtype=self.X.dtype)\n",
    "        \n",
    "        for i in range(bm):\n",
    "            mb_size_i = m - mb_size * (bm - 1) if i == bm - 1 else mb_size\n",
    "            start = i * mb_size\n",
    "            stop = i * mb_size + mb_size_i\n",
    "            perms = torch.stack([torch.randperm(self.n, device=self.X.device) for _ in range(mb_size_i)])\n",
    "            Y_perm = torch.stack([self.Y[p][:, p] for p in perms])\n",
    "            tmp = torch.einsum('ij,kji->k', self.X, Y_perm) / self.n\n",
    "            stats[start:stop] = tmp\n",
    "            \n",
    "        if value is None:\n",
    "            return stats.abs().quantile(1 - alpha, 0)\n",
    "            \n",
    "        return (stats.abs() > value).double().mean()\n",
    "    \n",
    "    def _montecarlo(self, value=None, alpha=0.05, m=100, max_batch=None):\n",
    "        max_batch = m if max_batch is None else max_batch\n",
    "        \n",
    "        mb_size = min(m, max_batch)\n",
    "        bm = -(-m // mb_size)\n",
    "        \n",
    "        stats = torch.zeros([m], device=self.X.device, dtype=self.X.dtype)\n",
    "        eig_X = torch.linalg.eigvalsh(self.X).view(self.n, -1)\n",
    "        eig_Y = torch.linalg.eigvalsh(self.Y).view(-1, self.n)\n",
    "        \n",
    "        for i in range(bm):\n",
    "            mb_size_i = m - mb_size * (bm - 1) if i == bm - 1 else mb_size\n",
    "            start = i * mb_size\n",
    "            stop = i * mb_size + mb_size_i\n",
    "            z = torch.randn([mb_size_i, self.n, self.n], device=self.X.device, dtype=self.X.dtype).pow(2)\n",
    "            z = z * eig_X * eig_Y           \n",
    "            stats[start:stop] = z.mean(dim=[1,2])\n",
    "            \n",
    "        if value is None:\n",
    "            return stats.abs().quantile(1 - alpha, 0)\n",
    "            \n",
    "        return (stats.abs() > value).double().mean()        "
   ]
  },
  {
   "cell_type": "code",
   "execution_count": 7,
   "metadata": {},
   "outputs": [],
   "source": [
    "class CHSIC:\n",
    "    def __init__(self, X, Y, Z):\n",
    "        self.n = X.shape[0]\n",
    "        H = -torch.ones((self.n, self.n), device=X.device, dtype=X.dtype) / self.n\n",
    "        H[range(self.n), range(self.n)] = 1 - 1 / self.n\n",
    "        self.X2 = H @ X @ H\n",
    "        self.X = H @ (X * Z) @ H\n",
    "        self.Y = H @ Y @ H\n",
    "        self.Z = H @ Z @ H\n",
    "    \n",
    "    def test(self, eps=0.001, m=1000, max_batch=None, alpha=0.05):\n",
    "        I = torch.eye(self.n, device=self.X.device, dtype=self.X.dtype)\n",
    "        R = I - self.Z @ torch.inverse(self.Z + eps * I)\n",
    "              \n",
    "        XZ = torch.einsum('ik,kl,lj->ij', R, self.X, R.T)\n",
    "        YY = torch.einsum('ik,kl,lj->ij', R, self.Y, R.T)\n",
    "        \n",
    "        critical_value = torch.einsum('ij,ji->', XZ, YY) / self.n\n",
    "        \n",
    "        return { \n",
    "            \"critical_value\": critical_value.cpu().item(),\n",
    "            \"mc_p_value\": self._null_dist(XZ, YY, critical_value, alpha, m, max_batch).cpu().item()\n",
    "        }\n",
    "        \n",
    "    \n",
    "    def _null_dist(self, KXZ, KYZ, value=None, alpha=0.05, m=1000, max_batch=None):\n",
    "        try:\n",
    "            val_x, eig_x = torch.linalg.eigh(KXZ)\n",
    "            if (val_x < 0).any():\n",
    "                raise ValueError(\"Negative eigenvalues\")\n",
    "        except:\n",
    "            val_x, eig_x = torch.linalg.eig(KXZ)\n",
    "            \n",
    "        try:\n",
    "            val_y, eig_y = torch.linalg.eigh(KYZ)\n",
    "            if (val_y < 0).any():\n",
    "                raise ValueError(\"Negative eigenvalues\")\n",
    "        except:\n",
    "              val_y, eig_y = torch.linalg.eig(KYZ)      \n",
    "        \n",
    "        vec_x = eig_x * val_x.sqrt()\n",
    "        vec_y = eig_y * val_y.sqrt()\n",
    "\n",
    "        ww = (vec_x.unsqueeze(2) * vec_y.unsqueeze(1)).reshape(self.n, -1)\n",
    "\n",
    "        ww_prod = ww @ ww.T if ww.shape[1] > self.n else ww.T @ ww\n",
    "        \n",
    "        try:\n",
    "            eig_vals = torch.linalg.eigvalsh(ww_prod)\n",
    "        except:\n",
    "            eig_vals = torch.linalg.eigvals(ww_prod)\n",
    "        \n",
    "        max_batch = m if max_batch is None else max_batch\n",
    "        \n",
    "        mb_size = min(m, max_batch)\n",
    "        bm = -(-m // mb_size)\n",
    "        \n",
    "        stats = torch.zeros([m], device=self.X.device, dtype=self.X.dtype)\n",
    "        \n",
    "        for i in range(bm):\n",
    "            mb_size_i = m - mb_size * (bm - 1) if i == bm - 1 else mb_size\n",
    "            start = i * mb_size\n",
    "            stop = i * mb_size + mb_size_i\n",
    "            z = torch.randn([mb_size_i, self.n], device=self.X.device, dtype=self.X.dtype).pow(2)\n",
    "            z = z * eig_vals\n",
    "            stats[start:stop] = z.mean(dim=1)\n",
    "            \n",
    "        if value is None:\n",
    "            return stats.abs().quantile(1 - alpha, 0)\n",
    "            \n",
    "        return (stats.abs() > value).double().mean()"
   ]
  },
  {
   "cell_type": "code",
   "execution_count": 29,
   "metadata": {},
   "outputs": [],
   "source": [
    "test = CHSIC(KX, KX, KZ)"
   ]
  },
  {
   "cell_type": "code",
   "execution_count": 32,
   "metadata": {},
   "outputs": [
    {
     "data": {
      "text/plain": [
       "{'critical_value': 1.8805678261424607e-13, 'mc_p_value': 0.357}"
      ]
     },
     "execution_count": 32,
     "metadata": {},
     "output_type": "execute_result"
    }
   ],
   "source": [
    "test.test(eps=0.001, m=1000)"
   ]
  },
  {
   "cell_type": "code",
   "execution_count": 25,
   "metadata": {},
   "outputs": [],
   "source": [
    "test = HSIC(KX, KY)"
   ]
  },
  {
   "cell_type": "code",
   "execution_count": 26,
   "metadata": {},
   "outputs": [
    {
     "data": {
      "text/plain": [
       "{'critical_value': 1748.738515468685,\n",
       " 'gamma_p_value': 0.21396013931400976,\n",
       " 'perm_p_value': 0.4805,\n",
       " 'mc_p_value': 0.234}"
      ]
     },
     "execution_count": 26,
     "metadata": {},
     "output_type": "execute_result"
    }
   ],
   "source": [
    "test.test(perms=2000)"
   ]
  },
  {
   "cell_type": "code",
   "execution_count": 87,
   "metadata": {},
   "outputs": [],
   "source": [
    "x = torch.randn([512, 10], device=torch.device('cuda:0'), dtype=torch.double).unsqueeze(0)\n",
    "y = torch.randn([512, 10], device=torch.device('cuda:0'), dtype=torch.double).unsqueeze(0)\n",
    "z = torch.randn([512, 10], device=torch.device('cuda:0'), dtype=torch.double).unsqueeze(0)\n",
    "w = z\n",
    "\n",
    "w[:,0:5] = x[:,0:5]"
   ]
  },
  {
   "cell_type": "code",
   "execution_count": 88,
   "metadata": {},
   "outputs": [],
   "source": [
    "rbf_x = sigkernel2.RBFKernel(median_distance(x, x))\n",
    "rbf_y = sigkernel2.RBFKernel(median_distance(y, y))\n",
    "rbf_z = sigkernel2.RBFKernel(median_distance(z, z))\n",
    "rbf_w = sigkernel2.RBFKernel(median_distance(w, w))"
   ]
  },
  {
   "cell_type": "code",
   "execution_count": 89,
   "metadata": {},
   "outputs": [],
   "source": [
    "kx = rbf_x.batch_kernel(x, x).squeeze(0)\n",
    "ky = rbf_y.batch_kernel(y, y).squeeze(0)\n",
    "kz = rbf_z.batch_kernel(z, z).squeeze(0)\n",
    "kw = rbf_w.batch_kernel(w, w).squeeze(0)"
   ]
  },
  {
   "cell_type": "code",
   "execution_count": 98,
   "metadata": {},
   "outputs": [],
   "source": [
    "test = CHSIC(kx, kw, kz)"
   ]
  },
  {
   "cell_type": "code",
   "execution_count": 99,
   "metadata": {},
   "outputs": [
    {
     "data": {
      "text/plain": [
       "{'critical_value': 0.21022597516140074, 'mc_p_value': 0.0}"
      ]
     },
     "execution_count": 99,
     "metadata": {},
     "output_type": "execute_result"
    }
   ],
   "source": [
    "test.test(eps=10, m=1000)"
   ]
  }
 ],
 "metadata": {
  "kernelspec": {
   "display_name": "Python 3",
   "language": "python",
   "name": "python3"
  },
  "language_info": {
   "codemirror_mode": {
    "name": "ipython",
    "version": 3
   },
   "file_extension": ".py",
   "mimetype": "text/x-python",
   "name": "python",
   "nbconvert_exporter": "python",
   "pygments_lexer": "ipython3",
   "version": "3.9.20"
  }
 },
 "nbformat": 4,
 "nbformat_minor": 2
}
