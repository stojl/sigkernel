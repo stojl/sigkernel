{
 "cells": [
  {
   "cell_type": "code",
   "execution_count": 1,
   "metadata": {},
   "outputs": [],
   "source": [
    "import torch\n",
    "import sigkernel2\n",
    "import sigkernel\n",
    "import csv\n",
    "import timeit\n",
    "import math\n",
    "device = torch.cuda.device('cuda')"
   ]
  },
  {
   "cell_type": "code",
   "execution_count": 2,
   "metadata": {},
   "outputs": [],
   "source": [
    "def generate(batch_size, length, dimension, device = torch.device('cpu')):\n",
    "  random_walks = torch.randn(batch_size, length, dimension, dtype = torch.double, device = device)\n",
    "  random_walks = torch.cumsum(random_walks, dim=1)\n",
    "  return random_walks"
   ]
  },
  {
   "cell_type": "code",
   "execution_count": 3,
   "metadata": {},
   "outputs": [],
   "source": [
    "sig = sigkernel2.SigKernel(sigkernel2.RBFKernel(2), 1)\n",
    "sig1 = sigkernel.SigKernel(sigkernel.RBFKernel(2), 1)\n",
    "sig2 = sigkernel2.SigKernel2(sigkernel2.RBFKernel(2), 1)"
   ]
  },
  {
   "cell_type": "code",
   "execution_count": 5,
   "metadata": {},
   "outputs": [],
   "source": [
    "X = generate(100, 64, 7, device = torch.device('cuda:0'))\n",
    "Y = generate(100, 64, 7, device = torch.device('cuda:0'))"
   ]
  },
  {
   "cell_type": "code",
   "execution_count": 5,
   "metadata": {},
   "outputs": [
    {
     "name": "stderr",
     "output_type": "stream",
     "text": [
      "/home/paperspace/.local/lib/python3.9/site-packages/numba/cuda/dispatcher.py:536: NumbaPerformanceWarning: \u001b[1mGrid size 10 will likely result in GPU under-utilization due to low occupancy.\u001b[0m\n",
      "  warn(NumbaPerformanceWarning(msg))\n"
     ]
    },
    {
     "name": "stdout",
     "output_type": "stream",
     "text": [
      "tensor([ 9899.8890,  9108.1520, 10405.5330, 11144.8083,  8988.3927, 11284.2828,\n",
      "         9949.2818,  8876.3550,  8173.9344,  8568.7830], device='cuda:0',\n",
      "       dtype=torch.float64)\n",
      "tensor([ 9899.8890,  9108.1520, 10405.5330, 11144.8083,  8988.3927, 11284.2828,\n",
      "         9949.2818,  8876.3550,  8173.9344,  8568.7830], device='cuda:0',\n",
      "       dtype=torch.float64)\n"
     ]
    },
    {
     "name": "stderr",
     "output_type": "stream",
     "text": [
      "/home/paperspace/.local/lib/python3.9/site-packages/numba/cuda/dispatcher.py:536: NumbaPerformanceWarning: \u001b[1mGrid size 10 will likely result in GPU under-utilization due to low occupancy.\u001b[0m\n",
      "  warn(NumbaPerformanceWarning(msg))\n"
     ]
    }
   ],
   "source": [
    "print(sig.compute_kernel(X, X, lean=True))\n",
    "print(sig2.kernel(X, X, max_batch=100))"
   ]
  },
  {
   "cell_type": "code",
   "execution_count": 7,
   "metadata": {},
   "outputs": [
    {
     "name": "stdout",
     "output_type": "stream",
     "text": [
      "34.5 ms ± 92.1 µs per loop (mean ± std. dev. of 5 runs, 100 loops each)\n",
      "29.7 ms ± 891 µs per loop (mean ± std. dev. of 5 runs, 100 loops each)\n"
     ]
    }
   ],
   "source": [
    "%timeit -n 100 -r 5 sig2.gram(X, X, max_batch=100) \n",
    "%timeit -n 100 -r 5 sig2.gram(X, max_batch=100)"
   ]
  }
 ],
 "metadata": {
  "kernelspec": {
   "display_name": "Python 3",
   "language": "python",
   "name": "python3"
  },
  "language_info": {
   "codemirror_mode": {
    "name": "ipython",
    "version": 3
   },
   "file_extension": ".py",
   "mimetype": "text/x-python",
   "name": "python",
   "nbconvert_exporter": "python",
   "pygments_lexer": "ipython3",
   "version": "3.9.20"
  }
 },
 "nbformat": 4,
 "nbformat_minor": 2
}
