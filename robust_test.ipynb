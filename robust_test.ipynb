{
 "cells": [
  {
   "cell_type": "code",
   "execution_count": 1,
   "metadata": {},
   "outputs": [],
   "source": [
    "import torch\n",
    "import sigkernel2\n",
    "import sigkernel\n",
    "import csv\n",
    "import scipy\n",
    "import timeit\n",
    "import math\n",
    "device = torch.cuda.device('cuda')"
   ]
  },
  {
   "cell_type": "code",
   "execution_count": 161,
   "metadata": {},
   "outputs": [],
   "source": [
    "def generate(batch_size, length, dimension, device = torch.device('cpu')):\n",
    "  random_walks = torch.randn(batch_size, length, dimension, dtype = torch.double, device = device) / math.sqrt(length)\n",
    "  start = torch.zeros([batch_size, 1, dimension], device=device, dtype=torch.double)\n",
    "  random_walks = torch.cat((start, random_walks), dim=1)\n",
    "  random_walks = torch.cumsum(random_walks, dim=1)\n",
    "  return random_walks\n",
    "\n",
    "def median_distance(X, Y):\n",
    "    A = X.shape[0]\n",
    "    M = X.shape[1]\n",
    "    N = Y.shape[1]\n",
    "    Xs = torch.sum(X**2, dim=2)\n",
    "    Ys = torch.sum(Y**2, dim=2)\n",
    "    dist = -2.*torch.bmm(X, Y.permute(0,2,1))\n",
    "    dist += torch.reshape(Xs,(A,M,1)) + torch.reshape(Ys,(A,1,N))\n",
    "    return dist.view(A, -1).median()\n",
    "  \n",
    "def tensor_norm(x, C=2, alpha=1):\n",
    "  return C - (C - 1) / (x.sqrt())**alpha\n",
    "\n",
    "def guess(norm, value):\n",
    "  if norm > value:\n",
    "    return math.sqrt((-1.0 - math.sqrt(1 - 2 * (1 - value))) / (-1.0 - math.sqrt(1 - 2 * (1 - norm))))\n",
    "  return math.sqrt((-1.0 + math.sqrt(1 - 2 * (1 - value))) / (-1.0 + math.sqrt(1 - 2 * (1 - norm))))\n",
    "def guess2(norm, value):\n",
    "  return math.sqrt((-1.0 + math.sqrt(1 - 2 * (1 - value))) / (-1.0 + math.sqrt(1 - 2 * (1 - norm))))\n",
    "\n",
    "def guess3(norm, value):\n",
    "  return (value - 1) / (norm - 1)"
   ]
  },
  {
   "cell_type": "code",
   "execution_count": 162,
   "metadata": {},
   "outputs": [],
   "source": [
    "X = generate(1, 50, 10, device = torch.device('cuda:0'))"
   ]
  },
  {
   "cell_type": "code",
   "execution_count": 170,
   "metadata": {},
   "outputs": [],
   "source": [
    "sig_x = sigkernel2.SigKernel2(sigkernel2.RBFKernel(median_distance(X, X).cpu().item()), 5)\n",
    "#sig_x = sigkernel2.SigKernel2(sigkernel2.LinearKernel(0.3), 3)"
   ]
  },
  {
   "cell_type": "code",
   "execution_count": 171,
   "metadata": {},
   "outputs": [
    {
     "name": "stdout",
     "output_type": "stream",
     "text": [
      "tensor([1.8166], device='cuda:0', dtype=torch.float64)\n",
      "tensor([29.7160], device='cuda:0', dtype=torch.float64)\n"
     ]
    }
   ],
   "source": [
    "print(tensor_norm(sig_x.kernel(X, X)))\n",
    "print(sig_x.kernel(X, X))"
   ]
  },
  {
   "cell_type": "code",
   "execution_count": 172,
   "metadata": {},
   "outputs": [
    {
     "name": "stdout",
     "output_type": "stream",
     "text": [
      "0.5508252332134318\n",
      "0.3061380222985923\n",
      "0.02843558704144373\n"
     ]
    }
   ],
   "source": [
    "norms = sig_x.kernel(X, X)\n",
    "norms\n",
    "print(guess(norms.cpu().item(), tensor_norm(norms).cpu().item()))\n",
    "print(guess2(norms.cpu().item(), tensor_norm(norms).cpu().item()))\n",
    "print(guess3(norms.cpu().item(), tensor_norm(norms).cpu().item()))"
   ]
  },
  {
   "cell_type": "code",
   "execution_count": 173,
   "metadata": {},
   "outputs": [
    {
     "data": {
      "text/plain": [
       "(tensor([1.8168], device='cuda:0', dtype=torch.float64),\n",
       " tensor([9.0088], device='cuda:0', dtype=torch.float64),\n",
       " tensor([0.4966], device='cuda:0', dtype=torch.float64))"
      ]
     },
     "execution_count": 173,
     "metadata": {},
     "output_type": "execute_result"
    }
   ],
   "source": [
    "lambdas = torch.tensor([guess(norms.cpu().item(), tensor_norm(norms).cpu().item())], dtype=torch.float64, device=X.device)\n",
    "sig_x.robust_kernel(X, tensor_norm(norms, alpha=1), lambdas, n=10)"
   ]
  },
  {
   "cell_type": "code",
   "execution_count": 78,
   "metadata": {},
   "outputs": [
    {
     "data": {
      "text/plain": [
       "tensor([1.8572], device='cuda:0', dtype=torch.float64)"
      ]
     },
     "execution_count": 78,
     "metadata": {},
     "output_type": "execute_result"
    }
   ],
   "source": [
    "tensor_norm(norms)"
   ]
  },
  {
   "cell_type": "code",
   "execution_count": 24,
   "metadata": {},
   "outputs": [
    {
     "data": {
      "text/plain": [
       "tensor([1.9302], device='cuda:0', dtype=torch.float64)"
      ]
     },
     "execution_count": 24,
     "metadata": {},
     "output_type": "execute_result"
    }
   ],
   "source": [
    "sig_x.kernel(X * 0.3586, X * 0.3586)"
   ]
  }
 ],
 "metadata": {
  "kernelspec": {
   "display_name": "Python 3",
   "language": "python",
   "name": "python3"
  },
  "language_info": {
   "codemirror_mode": {
    "name": "ipython",
    "version": 3
   },
   "file_extension": ".py",
   "mimetype": "text/x-python",
   "name": "python",
   "nbconvert_exporter": "python",
   "pygments_lexer": "ipython3",
   "version": "3.9.20"
  }
 },
 "nbformat": 4,
 "nbformat_minor": 2
}
