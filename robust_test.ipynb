{
 "cells": [
  {
   "cell_type": "code",
   "execution_count": 1,
   "metadata": {},
   "outputs": [],
   "source": [
    "import torch\n",
    "import sigkernel2\n",
    "import sigkernel\n",
    "import csv\n",
    "import scipy\n",
    "import timeit\n",
    "import math\n",
    "device = torch.cuda.device('cuda')"
   ]
  },
  {
   "cell_type": "code",
   "execution_count": 2,
   "metadata": {},
   "outputs": [],
   "source": [
    "def generate(batch_size, length, dimension, device = torch.device('cpu')):\n",
    "  random_walks = torch.randn(batch_size, length, dimension, dtype = torch.double, device = device) / math.sqrt(length)\n",
    "  start = torch.zeros([batch_size, 1, dimension], device=device, dtype=torch.double)\n",
    "  random_walks = torch.cat((start, random_walks), dim=1)\n",
    "  random_walks = torch.cumsum(random_walks, dim=1)\n",
    "  return random_walks\n",
    "\n",
    "def median_distance(X, Y):\n",
    "    A = X.shape[0]\n",
    "    M = X.shape[1]\n",
    "    N = Y.shape[1]\n",
    "    Xs = torch.sum(X**2, dim=2)\n",
    "    Ys = torch.sum(Y**2, dim=2)\n",
    "    dist = -2.*torch.bmm(X, Y.permute(0,2,1))\n",
    "    dist += torch.reshape(Xs,(A,M,1)) + torch.reshape(Ys,(A,1,N))\n",
    "    return dist.view(A, -1).median()\n",
    "  \n",
    "def tensor_norm(x, C=2, alpha=1):\n",
    "  return C - (C - 1) / (x.sqrt())**alpha\n",
    "\n",
    "def guess(norm, value):\n",
    "  if norm > value:\n",
    "    return math.sqrt((-1.0 - math.sqrt(1 - 2 * (1 - value))) / (-1.0 - math.sqrt(1 - 2 * (1 - norm))))\n",
    "  return math.sqrt((-1.0 + math.sqrt(1 - 2 * (1 - value))) / (-1.0 + math.sqrt(1 - 2 * (1 - norm))))\n",
    "def guess2(norm, value):\n",
    "  return math.sqrt((-1.0 + math.sqrt(1 - 2 * (1 - value))) / (-1.0 + math.sqrt(1 - 2 * (1 - norm))))\n",
    "\n",
    "def guess3(norm, value):\n",
    "  return (value - 1) / (norm - 1)"
   ]
  },
  {
   "cell_type": "code",
   "execution_count": 11,
   "metadata": {},
   "outputs": [],
   "source": [
    "X = generate(30, 50, 10, device = torch.device('cuda:0'))"
   ]
  },
  {
   "cell_type": "code",
   "execution_count": 12,
   "metadata": {},
   "outputs": [],
   "source": [
    "sig_x2 = sigkernel2.RobustSigKernel(sigkernel2.RBFKernel(median_distance(X, X).cpu().item()), 2, normalizer=lambda x : tensor_norm(x, C=2, alpha=0.5))\n",
    "#sig_x2 = sigkernel2.RobustSigKernel(sigkernel2.LinearKernel(1), 2, normalizer=lambda x : tensor_norm(x, C=2, alpha=1))\n",
    "sig_x = sigkernel2.SigKernel2(sigkernel2.RBFKernel(median_distance(X, X).cpu().item()), 2)\n",
    "#sig_x = sigkernel2.SigKernel2(sigkernel2.LinearKernel(1), 2)"
   ]
  },
  {
   "cell_type": "code",
   "execution_count": 13,
   "metadata": {},
   "outputs": [
    {
     "name": "stderr",
     "output_type": "stream",
     "text": [
      "/home/paperspace/.local/lib/python3.9/site-packages/numba/cuda/dispatcher.py:536: NumbaPerformanceWarning: \u001b[1mGrid size 30 will likely result in GPU under-utilization due to low occupancy.\u001b[0m\n",
      "  warn(NumbaPerformanceWarning(msg))\n"
     ]
    },
    {
     "data": {
      "text/plain": [
       "tensor([1.6752, 1.6229, 1.5872, 1.6427, 1.6602, 1.6656, 1.6082, 1.7063, 1.5798,\n",
       "        1.6946, 1.6591, 1.6262, 1.6292, 1.6579, 1.6698, 1.6856, 1.5712, 1.6787,\n",
       "        1.6849, 1.6039, 1.7270, 1.6767, 1.6628, 1.6546, 1.6870, 1.6178, 1.6126,\n",
       "        1.7310, 1.5395, 1.6658], device='cuda:0', dtype=torch.float64)"
      ]
     },
     "execution_count": 13,
     "metadata": {},
     "output_type": "execute_result"
    }
   ],
   "source": [
    "sig_x2.kernel(X, X, maxit=500, rel_tol=1e-8, abs_tol=1e-5)"
   ]
  },
  {
   "cell_type": "code",
   "execution_count": null,
   "metadata": {},
   "outputs": [],
   "source": []
  },
  {
   "cell_type": "code",
   "execution_count": 118,
   "metadata": {},
   "outputs": [],
   "source": [
    "Y = X[(test > 10).nonzero()[1]]"
   ]
  },
  {
   "cell_type": "code",
   "execution_count": 119,
   "metadata": {},
   "outputs": [
    {
     "name": "stdout",
     "output_type": "stream",
     "text": [
      "tensor([79.8611], device='cuda:0', dtype=torch.float64)\n",
      "0.43968163600917154\n",
      "0.2328500380033638\n",
      "0.010481640986550021\n"
     ]
    }
   ],
   "source": [
    "norms = sig_x.kernel(Y, Y)\n",
    "print(norms)\n",
    "print(guess(norms.cpu().item(), tensor_norm(norms, alpha=0.8).cpu().item()))\n",
    "print(guess2(norms.cpu().item(), tensor_norm(norms, alpha=0.8).cpu().item()))\n",
    "print(guess3(norms.cpu().item(), tensor_norm(norms, alpha=0.8).cpu().item()))"
   ]
  },
  {
   "cell_type": "code",
   "execution_count": 121,
   "metadata": {},
   "outputs": [
    {
     "data": {
      "text/plain": [
       "(tensor([6.2308e+179], device='cuda:0', dtype=torch.float64),\n",
       " tensor([-1.3047e+230], device='cuda:0', dtype=torch.float64),\n",
       " tensor([13.5300], device='cuda:0', dtype=torch.float64))"
      ]
     },
     "execution_count": 121,
     "metadata": {},
     "output_type": "execute_result"
    }
   ],
   "source": [
    "lambdas = torch.tensor([0.43968163600917154], dtype=torch.float64, device=X.device)\n",
    "#sig_x2.norms(Y, maxit=110, rel_tol=1e-8, abs_tol=1e-5)\n",
    "sig_x.robust_kernel(Y, norms, lambdas, n=200, rel_tol=1e-8, abs_tol=1e-5)"
   ]
  },
  {
   "cell_type": "code",
   "execution_count": 122,
   "metadata": {},
   "outputs": [
    {
     "data": {
      "text/plain": [
       "tensor([1.8267], device='cuda:0', dtype=torch.float64)"
      ]
     },
     "execution_count": 122,
     "metadata": {},
     "output_type": "execute_result"
    }
   ],
   "source": [
    "sig_x2.kernel(Y, Y, maxit=10000, rel_tol=1e-8, abs_tol=1e-5)"
   ]
  },
  {
   "cell_type": "code",
   "execution_count": 123,
   "metadata": {},
   "outputs": [
    {
     "data": {
      "text/plain": [
       "tensor([0.2329], device='cuda:0', dtype=torch.float64)"
      ]
     },
     "execution_count": 123,
     "metadata": {},
     "output_type": "execute_result"
    }
   ],
   "source": [
    "sig_x2.guess_norm(norms, sig_x2.normalizer(norms))"
   ]
  }
 ],
 "metadata": {
  "kernelspec": {
   "display_name": "Python 3",
   "language": "python",
   "name": "python3"
  },
  "language_info": {
   "codemirror_mode": {
    "name": "ipython",
    "version": 3
   },
   "file_extension": ".py",
   "mimetype": "text/x-python",
   "name": "python",
   "nbconvert_exporter": "python",
   "pygments_lexer": "ipython3",
   "version": "3.9.20"
  }
 },
 "nbformat": 4,
 "nbformat_minor": 2
}
