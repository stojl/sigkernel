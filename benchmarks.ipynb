{
 "cells": [
  {
   "cell_type": "code",
   "execution_count": 1,
   "metadata": {},
   "outputs": [],
   "source": [
    "import torch\n",
    "import sigkernel2\n",
    "import sigkernel\n",
    "import csv\n",
    "import timeit\n",
    "import math\n",
    "device = torch.cuda.device('cuda')"
   ]
  },
  {
   "cell_type": "code",
   "execution_count": 3,
   "metadata": {},
   "outputs": [],
   "source": [
    "def generate(batch_size, length, dimension, device = torch.device('cpu')):\n",
    "  random_walks = torch.randn(batch_size, length, dimension, dtype = torch.double, device = device)\n",
    "  random_walks = torch.cumsum(random_walks, dim=1)\n",
    "  return random_walks"
   ]
  },
  {
   "cell_type": "code",
   "execution_count": 7,
   "metadata": {},
   "outputs": [],
   "source": [
    "sig = sigkernel2.SigKernel(sigkernel2.LinearKernel(0.05), 1)\n",
    "sig1 = sigkernel.SigKernel(sigkernel.LinearKernel(0.05), 1)"
   ]
  },
  {
   "cell_type": "code",
   "execution_count": 5,
   "metadata": {},
   "outputs": [
    {
     "name": "stderr",
     "output_type": "stream",
     "text": [
      "/home/paperspace/.local/lib/python3.9/site-packages/numba/cuda/dispatcher.py:536: NumbaPerformanceWarning: \u001b[1mGrid size 2 will likely result in GPU under-utilization due to low occupancy.\u001b[0m\n",
      "  warn(NumbaPerformanceWarning(msg))\n",
      "/home/paperspace/.local/lib/python3.9/site-packages/numba/cuda/dispatcher.py:536: NumbaPerformanceWarning: \u001b[1mGrid size 2 will likely result in GPU under-utilization due to low occupancy.\u001b[0m\n",
      "  warn(NumbaPerformanceWarning(msg))\n",
      "/home/paperspace/.local/lib/python3.9/site-packages/numba/cuda/dispatcher.py:536: NumbaPerformanceWarning: \u001b[1mGrid size 2 will likely result in GPU under-utilization due to low occupancy.\u001b[0m\n",
      "  warn(NumbaPerformanceWarning(msg))\n",
      "/home/paperspace/.local/lib/python3.9/site-packages/numba/cuda/dispatcher.py:536: NumbaPerformanceWarning: \u001b[1mGrid size 2 will likely result in GPU under-utilization due to low occupancy.\u001b[0m\n",
      "  warn(NumbaPerformanceWarning(msg))\n",
      "/home/paperspace/.local/lib/python3.9/site-packages/numba/cuda/dispatcher.py:536: NumbaPerformanceWarning: \u001b[1mGrid size 2 will likely result in GPU under-utilization due to low occupancy.\u001b[0m\n",
      "  warn(NumbaPerformanceWarning(msg))\n",
      "/home/paperspace/.local/lib/python3.9/site-packages/numba/cuda/dispatcher.py:536: NumbaPerformanceWarning: \u001b[1mGrid size 2 will likely result in GPU under-utilization due to low occupancy.\u001b[0m\n",
      "  warn(NumbaPerformanceWarning(msg))\n",
      "/home/paperspace/.local/lib/python3.9/site-packages/numba/cuda/dispatcher.py:536: NumbaPerformanceWarning: \u001b[1mGrid size 2 will likely result in GPU under-utilization due to low occupancy.\u001b[0m\n",
      "  warn(NumbaPerformanceWarning(msg))\n"
     ]
    }
   ],
   "source": [
    "# Warm up to ensure JIT compilation\n",
    "X = generate(2, 128, 7, device = torch.device('cuda:0'))\n",
    "sig.compute_kernel(X, X, strided=False, alt_scheme=False)\n",
    "sig.compute_kernel(X, X, strided=True, alt_scheme=False)\n",
    "sig.compute_kernel(X, X, strided=False, alt_scheme=True)\n",
    "sig.compute_kernel(X, X, strided=True, alt_scheme=True)\n",
    "sig.compute_kernel(X, X, lean=True)\n",
    "sig.compute_kernel(X, X, strided=True, lean=True)\n",
    "sig1.compute_kernel(X, X)\n",
    "X = generate(100, 1024, 7, device = torch.device('cuda:0'))"
   ]
  },
  {
   "cell_type": "code",
   "execution_count": 42,
   "metadata": {},
   "outputs": [
    {
     "name": "stdout",
     "output_type": "stream",
     "text": [
      "Length: 1023"
     ]
    }
   ],
   "source": [
    "torch.manual_seed(42)\n",
    "\n",
    "if torch.cuda.is_available():\n",
    "    torch.cuda.manual_seed(42)\n",
    "    torch.cuda.manual_seed_all(42)\n",
    "\n",
    "dyadic_order = 0\n",
    "\n",
    "sig = sigkernel2.SigKernel(sigkernel2.LinearKernel(0.05), dyadic_order = 0)\n",
    "sig1 = sigkernel.SigKernel(sigkernel.LinearKernel(0.05), dyadic_order = 0)\n",
    "\n",
    "lengths = t = [16 * 2**i for i in range(6)]\n",
    "lengths.append(1023)\n",
    "\n",
    "execs = 100\n",
    "reps = 10\n",
    "\n",
    "with open(\"../speciale/rplots/bench_gpu_low.csv\", \"w\", newline=\"\") as file:\n",
    "    writer = csv.writer(file)\n",
    "    writer.writerow([\"Implementation\", \"Length\", \"Dyadic Order\", \"Run\", \"Result\"])\n",
    "      \n",
    "    for l in lengths:\n",
    "        print(f\"\\rLength: {l}\", end=\"\")\n",
    "        \n",
    "        x = generate(100, l, 7, device = torch.device('cuda:0'))\n",
    "        \n",
    "        impl = {\n",
    "            \"Baseline\": lambda: sig1.compute_kernel(x, x),\n",
    "            \"Improved\": lambda: sig.compute_kernel(x, x, lean=True)\n",
    "        }\n",
    "        \n",
    "        for name, func in impl.items():\n",
    "            # Use timeit with the function directly\n",
    "            timing_results = timeit.repeat(func, number=execs, repeat=reps)\n",
    "            \n",
    "            # Save results to CSV\n",
    "            for run, result in enumerate(timing_results, start=1):\n",
    "                writer.writerow([name, l, dyadic_order, run, result / execs])"
   ]
  },
  {
   "cell_type": "code",
   "execution_count": 43,
   "metadata": {},
   "outputs": [
    {
     "name": "stdout",
     "output_type": "stream",
     "text": [
      "Length: 16"
     ]
    },
    {
     "name": "stderr",
     "output_type": "stream",
     "text": [
      "/home/paperspace/.local/lib/python3.9/site-packages/numba/cuda/dispatcher.py:536: NumbaPerformanceWarning: \u001b[1mGrid size 100 will likely result in GPU under-utilization due to low occupancy.\u001b[0m\n",
      "  warn(NumbaPerformanceWarning(msg))\n"
     ]
    },
    {
     "name": "stdout",
     "output_type": "stream",
     "text": [
      "Length: 1024"
     ]
    }
   ],
   "source": [
    "torch.manual_seed(42)\n",
    "\n",
    "if torch.cuda.is_available():\n",
    "    torch.cuda.manual_seed(42)\n",
    "    torch.cuda.manual_seed_all(42)\n",
    "\n",
    "dyadic_order = 1\n",
    "\n",
    "sig = sigkernel2.SigKernel(sigkernel2.LinearKernel(0.05), dyadic_order = dyadic_order)\n",
    "sig1 = sigkernel.SigKernel(sigkernel.LinearKernel(0.05), dyadic_order = dyadic_order)\n",
    "\n",
    "lengths = t = [16 * 2**i for i in range(5)]\n",
    "lengths.append(511)\n",
    "\n",
    "execs = 100\n",
    "reps = 10\n",
    "\n",
    "with open(\"../speciale/rplots/bench_gpu_low_1.csv\", \"w\", newline=\"\") as file:\n",
    "    writer = csv.writer(file)\n",
    "    writer.writerow([\"Implementation\", \"Length\", \"Dyadic Order\", \"Run\", \"Result\"])\n",
    "      \n",
    "    for l in lengths:\n",
    "        print(f\"\\rLength: {l}\", end=\"\")\n",
    "        \n",
    "        x = generate(100, l, 7, device = torch.device('cuda:0'))\n",
    "        \n",
    "        impl = {\n",
    "            \"Baseline\": lambda: sig1.compute_kernel(x, x),\n",
    "            \"Improved\": lambda: sig.compute_kernel(x, x, lean=True)\n",
    "        }\n",
    "        \n",
    "        for name, func in impl.items():\n",
    "            # Use timeit with the function directly\n",
    "            timing_results = timeit.repeat(func, number=execs, repeat=reps)\n",
    "            \n",
    "            # Save results to CSV\n",
    "            for run, result in enumerate(timing_results, start=1):\n",
    "                writer.writerow([name, l, dyadic_order, run, result / execs])"
   ]
  },
  {
   "cell_type": "code",
   "execution_count": 53,
   "metadata": {},
   "outputs": [
    {
     "name": "stdout",
     "output_type": "stream",
     "text": [
      "Length: 16"
     ]
    },
    {
     "name": "stderr",
     "output_type": "stream",
     "text": [
      "/home/paperspace/.local/lib/python3.9/site-packages/numba/cuda/dispatcher.py:536: NumbaPerformanceWarning: \u001b[1mGrid size 10 will likely result in GPU under-utilization due to low occupancy.\u001b[0m\n",
      "  warn(NumbaPerformanceWarning(msg))\n"
     ]
    },
    {
     "name": "stdout",
     "output_type": "stream",
     "text": [
      "Length: 1023"
     ]
    }
   ],
   "source": [
    "torch.manual_seed(42)\n",
    "\n",
    "if torch.cuda.is_available():\n",
    "    torch.cuda.manual_seed(42)\n",
    "    torch.cuda.manual_seed_all(42)\n",
    "\n",
    "dyadic_order = 0\n",
    "\n",
    "sig1 = sigkernel.SigKernel(sigkernel.LinearKernel(0.05), dyadic_order = dyadic_order)\n",
    "\n",
    "lengths = t = [16 * 2**i for i in range(6)]\n",
    "lengths.append(1023)\n",
    "\n",
    "execs = 100\n",
    "reps = 10\n",
    "\n",
    "with open(\"../speciale/rplots/bench_gpu_cpu.csv\", \"w\", newline=\"\") as file:\n",
    "    writer = csv.writer(file)\n",
    "    writer.writerow([\"Implementation\", \"Length\", \"Dyadic Order\", \"Run\", \"Result\"])\n",
    "      \n",
    "    for l in lengths:\n",
    "        print(f\"\\rLength: {l}\", end=\"\")\n",
    "        \n",
    "        x = generate(10, l, 7, device = torch.device('cuda:0'))\n",
    "        x_h = x.cpu()\n",
    "        \n",
    "        impl = {\n",
    "            \"Baseline - CPU\": lambda: sig1.compute_kernel(x_h, x_h),\n",
    "            \"Baseline - GPU\": lambda: sig1.compute_kernel(x, x)\n",
    "        }\n",
    "        \n",
    "        for name, func in impl.items():\n",
    "            # Use timeit with the function directly\n",
    "            timing_results = timeit.repeat(func, number=execs, repeat=reps)\n",
    "            \n",
    "            # Save results to CSV\n",
    "            for run, result in enumerate(timing_results, start=1):\n",
    "                writer.writerow([name, l, dyadic_order, run, result / execs])"
   ]
  },
  {
   "cell_type": "code",
   "execution_count": 45,
   "metadata": {},
   "outputs": [],
   "source": [
    "def bench_memory(func):\n",
    "    torch.cuda.empty_cache()\n",
    "    torch.cuda.reset_peak_memory_stats()\n",
    "    func()\n",
    "    return torch.cuda.max_memory_allocated() / 1024 ** 2"
   ]
  },
  {
   "cell_type": "code",
   "execution_count": 46,
   "metadata": {},
   "outputs": [
    {
     "name": "stdout",
     "output_type": "stream",
     "text": [
      "Order: 4"
     ]
    }
   ],
   "source": [
    "orders = [0, 1, 2, 3, 4]\n",
    "\n",
    "with open(\"../speciale/rplots/bench_gpu_mem.csv\", \"w\", newline=\"\") as file:\n",
    "    writer = csv.writer(file)\n",
    "    writer.writerow([\"Implementation\", \"Length\", \"Dyadic Order\", \"Result\"])\n",
    "    \n",
    "    x = generate(100, 64, 7, device = torch.device('cuda:0'))\n",
    "    \n",
    "    for ord in orders:\n",
    "        print(f\"\\rOrder: {ord}\", end=\"\")\n",
    "        sig = sigkernel2.SigKernel(sigkernel2.LinearKernel(0.05), ord)\n",
    "        sig1 = sigkernel.SigKernel(sigkernel.LinearKernel(0.05), ord)\n",
    "        \n",
    "        impl = {\n",
    "            \"Baseline\": lambda: sig1.compute_kernel(x, x),\n",
    "            \"Improved\": lambda: sig.compute_kernel(x, x, lean=True)\n",
    "        }\n",
    "        \n",
    "        for name, func in impl.items():\n",
    "            # Use timeit with the function directly\n",
    "            result = bench_memory(func)\n",
    "            \n",
    "            writer.writerow([name, 128, ord, result]) "
   ]
  },
  {
   "cell_type": "code",
   "execution_count": 54,
   "metadata": {},
   "outputs": [
    {
     "name": "stdout",
     "output_type": "stream",
     "text": [
      "Length: 1023"
     ]
    }
   ],
   "source": [
    "lengths = [32, 64, 128, 256, 512, 1023]\n",
    "\n",
    "with open(\"../speciale/rplots/bench_gpu_mem_len.csv\", \"w\", newline=\"\") as file:\n",
    "    writer = csv.writer(file)\n",
    "    writer.writerow([\"Implementation\", \"Length\", \"Dyadic Order\", \"Result\"])\n",
    "    \n",
    "    for l in lengths:\n",
    "        print(f\"\\rLength: {l}\", end=\"\")\n",
    "        x = generate(100, l, 7, device = torch.device('cuda:0'))\n",
    "        sig = sigkernel2.SigKernel(sigkernel2.LinearKernel(0.05), 0)\n",
    "        sig1 = sigkernel.SigKernel(sigkernel.LinearKernel(0.05), 0)\n",
    "        \n",
    "        impl = {\n",
    "            \"Baseline\": lambda: sig1.compute_kernel(x, x),\n",
    "            \"Improved\": lambda: sig.compute_kernel(x, x, lean=True)\n",
    "        }\n",
    "        \n",
    "        for name, func in impl.items():\n",
    "            # Use timeit with the function directly\n",
    "            result = bench_memory(func)\n",
    "            \n",
    "            writer.writerow([name, l, 0, result]) "
   ]
  },
  {
   "cell_type": "code",
   "execution_count": 13,
   "metadata": {},
   "outputs": [
    {
     "name": "stdout",
     "output_type": "stream",
     "text": [
      "Length: 32"
     ]
    },
    {
     "name": "stderr",
     "output_type": "stream",
     "text": [
      "/home/paperspace/.local/lib/python3.9/site-packages/numba/cuda/dispatcher.py:536: NumbaPerformanceWarning: \u001b[1mGrid size 10 will likely result in GPU under-utilization due to low occupancy.\u001b[0m\n",
      "  warn(NumbaPerformanceWarning(msg))\n"
     ]
    },
    {
     "name": "stdout",
     "output_type": "stream",
     "text": [
      "Length: 5118"
     ]
    }
   ],
   "source": [
    "torch.manual_seed(42)\n",
    "\n",
    "if torch.cuda.is_available():\n",
    "    torch.cuda.manual_seed(42)\n",
    "    torch.cuda.manual_seed_all(42)\n",
    "\n",
    "dyadic_order = 0\n",
    "\n",
    "sig = sigkernel2.SigKernel(sigkernel2.LinearKernel(0.05), dyadic_order = dyadic_order)\n",
    "\n",
    "lengths = t = [32, 64, 128, 256, 512, 768, 1024, 1280, 1536, 1792, 2048]\n",
    "\n",
    "execs = 100\n",
    "reps = 10\n",
    "\n",
    "with open(\"../speciale/rplots/bench_strided.csv\", \"w\", newline=\"\") as file:\n",
    "    writer = csv.writer(file)\n",
    "    writer.writerow([\"Implementation\", \"Length\", \"Dyadic Order\", \"Run\", \"Result\"])\n",
    "      \n",
    "    for l in lengths:\n",
    "        print(f\"\\rLength: {l}\", end=\"\")\n",
    "        \n",
    "        x = generate(10, l, 7, device = torch.device('cuda:0'))\n",
    "        \n",
    "        impl = {\n",
    "            \"Strided\": lambda: sig.compute_kernel(x, x, strided=True, lean=True),\n",
    "            \"Unstrided\": lambda: sig.compute_kernel(x, x, lean=True)\n",
    "        }\n",
    "        \n",
    "        for name, func in impl.items():\n",
    "            # Use timeit with the function directly\n",
    "            timing_results = timeit.repeat(func, number=execs, repeat=reps)\n",
    "            \n",
    "            # Save results to CSV\n",
    "            for run, result in enumerate(timing_results, start=1):\n",
    "                writer.writerow([name, l, dyadic_order, run, result / execs])"
   ]
  }
 ],
 "metadata": {
  "kernelspec": {
   "display_name": "Python 3",
   "language": "python",
   "name": "python3"
  },
  "language_info": {
   "codemirror_mode": {
    "name": "ipython",
    "version": 3
   },
   "file_extension": ".py",
   "mimetype": "text/x-python",
   "name": "python",
   "nbconvert_exporter": "python",
   "pygments_lexer": "ipython3",
   "version": "3.9.20"
  }
 },
 "nbformat": 4,
 "nbformat_minor": 2
}
