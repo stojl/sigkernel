{
 "cells": [
  {
   "cell_type": "code",
   "execution_count": 29,
   "metadata": {},
   "outputs": [],
   "source": [
    "import torch\n",
    "import sigkernel2\n",
    "import sigkernel\n",
    "import csv\n",
    "import timeit\n",
    "device = torch.cuda.device('cuda')"
   ]
  },
  {
   "cell_type": "code",
   "execution_count": 2,
   "metadata": {},
   "outputs": [],
   "source": [
    "def generate(batch_size, length, dimension, device = torch.device('cpu')):\n",
    "  random_walks = torch.randn(batch_size, length, dimension, dtype = torch.double, device = device)\n",
    "  random_walks = torch.cumsum(random_walks, dim=1)\n",
    "  return random_walks"
   ]
  },
  {
   "cell_type": "code",
   "execution_count": 24,
   "metadata": {},
   "outputs": [],
   "source": [
    "sig = sigkernel2.SigKernel(sigkernel2.RBFKernel(1), 0)\n",
    "sig1 = sigkernel.SigKernel(sigkernel.RBFKernel(1), 0)"
   ]
  },
  {
   "cell_type": "code",
   "execution_count": 25,
   "metadata": {},
   "outputs": [
    {
     "name": "stderr",
     "output_type": "stream",
     "text": [
      "/home/paperspace/.local/lib/python3.9/site-packages/numba/cuda/dispatcher.py:536: NumbaPerformanceWarning: \u001b[1mGrid size 1 will likely result in GPU under-utilization due to low occupancy.\u001b[0m\n",
      "  warn(NumbaPerformanceWarning(msg))\n"
     ]
    },
    {
     "data": {
      "text/plain": [
       "tensor([3.3948e+25], device='cuda:0', dtype=torch.float64)"
      ]
     },
     "execution_count": 25,
     "metadata": {},
     "output_type": "execute_result"
    }
   ],
   "source": [
    "# Warm up to ensure JIT compilation\n",
    "X = generate(1, 128, 7, device = torch.device('cuda:0'))\n",
    "sig.compute_kernel(X, X, strided=False, alt_scheme=False)\n",
    "sig.compute_kernel(X, X, strided=True, alt_scheme=False)\n",
    "sig.compute_kernel(X, X, strided=False, alt_scheme=True)\n",
    "sig.compute_kernel(X, X, strided=True, alt_scheme=True)\n",
    "sig1.compute_kernel(X, X)"
   ]
  },
  {
   "cell_type": "code",
   "execution_count": 51,
   "metadata": {},
   "outputs": [],
   "source": [
    "X = generate(10, 1023, 7, device = torch.device('cuda:0'))\n",
    "Y = generate(10, 800, 7, device = torch.device('cuda:0'))"
   ]
  },
  {
   "cell_type": "code",
   "execution_count": 52,
   "metadata": {},
   "outputs": [
    {
     "data": {
      "text/plain": [
       "tensor([1.2157e+203, 2.1838e+203, 4.2814e+203, 4.1860e+203, 5.7354e+203,\n",
       "        4.3087e+203, 4.3497e+203, 5.7231e+203, 3.1675e+203, 3.3709e+203],\n",
       "       device='cuda:0', dtype=torch.float64)"
      ]
     },
     "execution_count": 52,
     "metadata": {},
     "output_type": "execute_result"
    }
   ],
   "source": [
    "sig1.compute_kernel(X, X)"
   ]
  },
  {
   "cell_type": "code",
   "execution_count": 27,
   "metadata": {},
   "outputs": [
    {
     "name": "stdout",
     "output_type": "stream",
     "text": [
      "556 µs ± 0 ns per loop (mean ± std. dev. of 1 run, 100 loops each)\n",
      "428 µs ± 17.5 µs per loop (mean ± std. dev. of 10 runs, 100 loops each)\n",
      "447 µs ± 13.9 µs per loop (mean ± std. dev. of 10 runs, 100 loops each)\n",
      "430 µs ± 18.5 µs per loop (mean ± std. dev. of 10 runs, 100 loops each)\n",
      "427 µs ± 9.86 µs per loop (mean ± std. dev. of 10 runs, 100 loops each)\n",
      "1.23 ms ± 35.2 µs per loop (mean ± std. dev. of 10 runs, 100 loops each)\n"
     ]
    }
   ],
   "source": [
    "%timeit -n 100 -r 1 sig.compute_kernel(X, X, strided=False, alt_scheme=False) # DUMMY\n",
    "%timeit -n 100 -r 10 sig.compute_kernel(X, X, strided=False, alt_scheme=False)\n",
    "%timeit -n 100 -r 10 sig.compute_kernel(X, X, strided=True, alt_scheme=False)\n",
    "%timeit -n 100 -r 10 sig.compute_kernel(X, X, strided=False, alt_scheme=True)\n",
    "%timeit -n 100 -r 10 sig.compute_kernel(X, X, strided=True, alt_scheme=True)\n",
    "%timeit -n 100 -r 10 sig1.compute_kernel(X, X)\n"
   ]
  },
  {
   "cell_type": "code",
   "execution_count": 57,
   "metadata": {},
   "outputs": [],
   "source": [
    "torch.manual_seed(42)\n",
    "\n",
    "if torch.cuda.is_available():\n",
    "    torch.cuda.manual_seed(42)\n",
    "    torch.cuda.manual_seed_all(42)\n",
    "\n",
    "dyadic_order = 0\n",
    "\n",
    "sig = sigkernel2.SigKernel(sigkernel2.RBFKernel(1), dyadic_order = 0)\n",
    "sig1 = sigkernel.SigKernel(sigkernel.RBFKernel(1), dyadic_order = 0)\n",
    "\n",
    "lengths = t = [16 * 2**i for i in range(6)]\n",
    "lengths.append(1023)\n",
    "\n",
    "execs = 100\n",
    "reps = 30\n",
    "\n",
    "with open(\"../speciale/rplots/bench_gpu_low.csv\", \"w\", newline=\"\") as file:\n",
    "    writer = csv.writer(file)\n",
    "    writer.writerow([\"Implementation\", \"Length\", \"Dyadic Order\", \"Run\", \"Result\"])\n",
    "      \n",
    "    for l in lengths:\n",
    "        \n",
    "        x = generate(10, l, 7, device = torch.device('cuda:0'))\n",
    "        \n",
    "        impl = {\n",
    "            \"Baseline\": lambda: sig1.compute_kernel(x, x),\n",
    "            \"Improved\": lambda: sig.compute_kernel(x, x, strided=False, alt_scheme=False),\n",
    "            \"Improved Alt\": lambda: sig.compute_kernel(x, x, strided=False, alt_scheme=True)\n",
    "        }\n",
    "        \n",
    "        for name, func in impl.items():\n",
    "            # Use timeit with the function directly\n",
    "            timing_results = timeit.repeat(func, number=execs, repeat=reps)\n",
    "            \n",
    "            # Save results to CSV\n",
    "            for run, result in enumerate(timing_results, start=1):\n",
    "                writer.writerow([name, l, dyadic_order, run, result])"
   ]
  },
  {
   "cell_type": "code",
   "execution_count": 58,
   "metadata": {},
   "outputs": [],
   "source": [
    "torch.manual_seed(42)\n",
    "\n",
    "if torch.cuda.is_available():\n",
    "    torch.cuda.manual_seed(42)\n",
    "    torch.cuda.manual_seed_all(42)\n",
    "\n",
    "dyadic_order = 1\n",
    "\n",
    "sig = sigkernel2.SigKernel(sigkernel2.RBFKernel(1), dyadic_order = 0)\n",
    "sig1 = sigkernel.SigKernel(sigkernel.RBFKernel(1), dyadic_order = 0)\n",
    "\n",
    "lengths = t = [16 * 2**i for i in range(5)]\n",
    "lengths.append(511)\n",
    "\n",
    "execs = 100\n",
    "reps = 30\n",
    "\n",
    "with open(\"../speciale/rplots/bench_gpu_low_1.csv\", \"w\", newline=\"\") as file:\n",
    "    writer = csv.writer(file)\n",
    "    writer.writerow([\"Implementation\", \"Length\", \"Dyadic Order\", \"Run\", \"Result\"])\n",
    "      \n",
    "    for l in lengths:\n",
    "        \n",
    "        x = generate(10, l, 7, device = torch.device('cuda:0'))\n",
    "        \n",
    "        impl = {\n",
    "            \"Baseline\": lambda: sig1.compute_kernel(x, x),\n",
    "            \"Improved\": lambda: sig.compute_kernel(x, x, strided=False, alt_scheme=False),\n",
    "            \"Improved Alt\": lambda: sig.compute_kernel(x, x, strided=False, alt_scheme=True)\n",
    "        }\n",
    "        \n",
    "        for name, func in impl.items():\n",
    "            # Use timeit with the function directly\n",
    "            timing_results = timeit.repeat(func, number=execs, repeat=reps)\n",
    "            \n",
    "            # Save results to CSV\n",
    "            for run, result in enumerate(timing_results, start=1):\n",
    "                writer.writerow([name, l, dyadic_order, run, result])"
   ]
  }
 ],
 "metadata": {
  "kernelspec": {
   "display_name": "Python 3",
   "language": "python",
   "name": "python3"
  },
  "language_info": {
   "codemirror_mode": {
    "name": "ipython",
    "version": 3
   },
   "file_extension": ".py",
   "mimetype": "text/x-python",
   "name": "python",
   "nbconvert_exporter": "python",
   "pygments_lexer": "ipython3",
   "version": "3.9.20"
  }
 },
 "nbformat": 4,
 "nbformat_minor": 2
}
