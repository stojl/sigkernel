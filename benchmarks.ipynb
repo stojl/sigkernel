{
 "cells": [
  {
   "cell_type": "code",
   "execution_count": 1,
   "metadata": {},
   "outputs": [],
   "source": [
    "import torch\n",
    "import sigkernel2\n",
    "import sigkernel\n",
    "import csv\n",
    "import timeit\n",
    "import math\n",
    "device = torch.cuda.device('cuda')\n",
    "import pandas as pd"
   ]
  },
  {
   "cell_type": "code",
   "execution_count": 2,
   "metadata": {},
   "outputs": [],
   "source": [
    "def bench_memory(func):\n",
    "    torch.cuda.empty_cache()\n",
    "    torch.cuda.reset_peak_memory_stats()\n",
    "    func()\n",
    "    return torch.cuda.max_memory_allocated() / 1024 ** 2"
   ]
  },
  {
   "cell_type": "code",
   "execution_count": 3,
   "metadata": {},
   "outputs": [],
   "source": [
    "def generate(batch_size, length, dimension, device = torch.device('cpu')):\n",
    "  random_walks = torch.randn(batch_size, length, dimension, dtype = torch.double, device = device)\n",
    "  random_walks = torch.cumsum(random_walks, dim=1)\n",
    "  return random_walks"
   ]
  },
  {
   "cell_type": "code",
   "execution_count": 4,
   "metadata": {},
   "outputs": [],
   "source": [
    "sig = sigkernel2.SigKernel(sigkernel2.LinearKernel(0.05), 0)\n",
    "sig1 = sigkernel.SigKernel(sigkernel.LinearKernel(0.05), 0)\n",
    "sig3 = sigkernel2.SigKernel2(sigkernel2.LinearKernel(0.05), 0)"
   ]
  },
  {
   "cell_type": "code",
   "execution_count": 5,
   "metadata": {},
   "outputs": [
    {
     "name": "stderr",
     "output_type": "stream",
     "text": [
      "/home/paperspace/.local/lib/python3.9/site-packages/numba/cuda/dispatcher.py:536: NumbaPerformanceWarning: \u001b[1mGrid size 2 will likely result in GPU under-utilization due to low occupancy.\u001b[0m\n",
      "  warn(NumbaPerformanceWarning(msg))\n",
      "/home/paperspace/.local/lib/python3.9/site-packages/numba/cuda/dispatcher.py:536: NumbaPerformanceWarning: \u001b[1mGrid size 2 will likely result in GPU under-utilization due to low occupancy.\u001b[0m\n",
      "  warn(NumbaPerformanceWarning(msg))\n",
      "/home/paperspace/.local/lib/python3.9/site-packages/numba/cuda/dispatcher.py:536: NumbaPerformanceWarning: \u001b[1mGrid size 2 will likely result in GPU under-utilization due to low occupancy.\u001b[0m\n",
      "  warn(NumbaPerformanceWarning(msg))\n",
      "/home/paperspace/.local/lib/python3.9/site-packages/numba/cuda/dispatcher.py:536: NumbaPerformanceWarning: \u001b[1mGrid size 2 will likely result in GPU under-utilization due to low occupancy.\u001b[0m\n",
      "  warn(NumbaPerformanceWarning(msg))\n",
      "/home/paperspace/.local/lib/python3.9/site-packages/numba/cuda/dispatcher.py:536: NumbaPerformanceWarning: \u001b[1mGrid size 2 will likely result in GPU under-utilization due to low occupancy.\u001b[0m\n",
      "  warn(NumbaPerformanceWarning(msg))\n",
      "/home/paperspace/.local/lib/python3.9/site-packages/numba/cuda/dispatcher.py:536: NumbaPerformanceWarning: \u001b[1mGrid size 2 will likely result in GPU under-utilization due to low occupancy.\u001b[0m\n",
      "  warn(NumbaPerformanceWarning(msg))\n",
      "/home/paperspace/.local/lib/python3.9/site-packages/numba/cuda/dispatcher.py:536: NumbaPerformanceWarning: \u001b[1mGrid size 2 will likely result in GPU under-utilization due to low occupancy.\u001b[0m\n",
      "  warn(NumbaPerformanceWarning(msg))\n",
      "/home/paperspace/.local/lib/python3.9/site-packages/numba/cuda/dispatcher.py:536: NumbaPerformanceWarning: \u001b[1mGrid size 4 will likely result in GPU under-utilization due to low occupancy.\u001b[0m\n",
      "  warn(NumbaPerformanceWarning(msg))\n",
      "/home/paperspace/.local/lib/python3.9/site-packages/numba/cuda/dispatcher.py:536: NumbaPerformanceWarning: \u001b[1mGrid size 4 will likely result in GPU under-utilization due to low occupancy.\u001b[0m\n",
      "  warn(NumbaPerformanceWarning(msg))\n",
      "/home/paperspace/.local/lib/python3.9/site-packages/numba/cuda/dispatcher.py:536: NumbaPerformanceWarning: \u001b[1mGrid size 4 will likely result in GPU under-utilization due to low occupancy.\u001b[0m\n",
      "  warn(NumbaPerformanceWarning(msg))\n"
     ]
    },
    {
     "data": {
      "text/plain": [
       "tensor([[2.4854e+149, -5.2223e+90],\n",
       "        [-5.2223e+90, 2.5568e+152]], device='cuda:0', dtype=torch.float64)"
      ]
     },
     "execution_count": 5,
     "metadata": {},
     "output_type": "execute_result"
    }
   ],
   "source": [
    "# Warm up to ensure JIT compilation\n",
    "X = generate(2, 128, 7, device = torch.device('cuda:0'))\n",
    "sig.compute_kernel(X, X, strided=False, alt_scheme=False)\n",
    "sig.compute_kernel(X, X, strided=True, alt_scheme=False)\n",
    "sig.compute_kernel(X, X, strided=False, alt_scheme=True)\n",
    "sig.compute_kernel(X, X, strided=True, alt_scheme=True)\n",
    "sig.compute_kernel(X, X, lean=True)\n",
    "sig.compute_kernel(X, X, strided=True, lean=True)\n",
    "sig1.compute_kernel(X, X)\n",
    "\n",
    "sig3.gram(X)\n",
    "sig3.gram(X, X)\n",
    "sig1.compute_Gram(X, X, sym=True)"
   ]
  },
  {
   "cell_type": "code",
   "execution_count": 42,
   "metadata": {},
   "outputs": [
    {
     "name": "stdout",
     "output_type": "stream",
     "text": [
      "Length: 1023"
     ]
    }
   ],
   "source": [
    "torch.manual_seed(42)\n",
    "\n",
    "if torch.cuda.is_available():\n",
    "    torch.cuda.manual_seed(42)\n",
    "    torch.cuda.manual_seed_all(42)\n",
    "\n",
    "dyadic_order = 0\n",
    "\n",
    "sig = sigkernel2.SigKernel(sigkernel2.LinearKernel(0.05), dyadic_order = 0)\n",
    "sig1 = sigkernel.SigKernel(sigkernel.LinearKernel(0.05), dyadic_order = 0)\n",
    "\n",
    "lengths = t = [16 * 2**i for i in range(6)]\n",
    "lengths.append(1023)\n",
    "\n",
    "execs = 100\n",
    "reps = 10\n",
    "\n",
    "with open(\"../speciale/rplots/bench_gpu_low.csv\", \"w\", newline=\"\") as file:\n",
    "    writer = csv.writer(file)\n",
    "    writer.writerow([\"Implementation\", \"Length\", \"Dyadic Order\", \"Run\", \"Result\"])\n",
    "      \n",
    "    for l in lengths:\n",
    "        print(f\"\\rLength: {l}\", end=\"\")\n",
    "        \n",
    "        x = generate(100, l, 7, device = torch.device('cuda:0'))\n",
    "        \n",
    "        impl = {\n",
    "            \"Baseline\": lambda: sig1.compute_kernel(x, x),\n",
    "            \"Improved\": lambda: sig.compute_kernel(x, x, lean=True)\n",
    "        }\n",
    "        \n",
    "        for name, func in impl.items():\n",
    "            # Use timeit with the function directly\n",
    "            timing_results = timeit.repeat(func, number=execs, repeat=reps)\n",
    "            \n",
    "            # Save results to CSV\n",
    "            for run, result in enumerate(timing_results, start=1):\n",
    "                writer.writerow([name, l, dyadic_order, run, result / execs])"
   ]
  },
  {
   "cell_type": "code",
   "execution_count": 43,
   "metadata": {},
   "outputs": [
    {
     "name": "stdout",
     "output_type": "stream",
     "text": [
      "Length: 16"
     ]
    },
    {
     "name": "stderr",
     "output_type": "stream",
     "text": [
      "/home/paperspace/.local/lib/python3.9/site-packages/numba/cuda/dispatcher.py:536: NumbaPerformanceWarning: \u001b[1mGrid size 100 will likely result in GPU under-utilization due to low occupancy.\u001b[0m\n",
      "  warn(NumbaPerformanceWarning(msg))\n"
     ]
    },
    {
     "name": "stdout",
     "output_type": "stream",
     "text": [
      "Length: 1024"
     ]
    }
   ],
   "source": [
    "torch.manual_seed(42)\n",
    "\n",
    "if torch.cuda.is_available():\n",
    "    torch.cuda.manual_seed(42)\n",
    "    torch.cuda.manual_seed_all(42)\n",
    "\n",
    "dyadic_order = 1\n",
    "\n",
    "sig = sigkernel2.SigKernel(sigkernel2.LinearKernel(0.05), dyadic_order = dyadic_order)\n",
    "sig1 = sigkernel.SigKernel(sigkernel.LinearKernel(0.05), dyadic_order = dyadic_order)\n",
    "\n",
    "lengths = t = [16 * 2**i for i in range(5)]\n",
    "lengths.append(511)\n",
    "\n",
    "execs = 100\n",
    "reps = 10\n",
    "\n",
    "with open(\"../speciale/rplots/bench_gpu_low_1.csv\", \"w\", newline=\"\") as file:\n",
    "    writer = csv.writer(file)\n",
    "    writer.writerow([\"Implementation\", \"Length\", \"Dyadic Order\", \"Run\", \"Result\"])\n",
    "      \n",
    "    for l in lengths:\n",
    "        print(f\"\\rLength: {l}\", end=\"\")\n",
    "        \n",
    "        x = generate(100, l, 7, device = torch.device('cuda:0'))\n",
    "        \n",
    "        impl = {\n",
    "            \"Baseline\": lambda: sig1.compute_kernel(x, x),\n",
    "            \"Improved\": lambda: sig.compute_kernel(x, x, lean=True)\n",
    "        }\n",
    "        \n",
    "        for name, func in impl.items():\n",
    "            # Use timeit with the function directly\n",
    "            timing_results = timeit.repeat(func, number=execs, repeat=reps)\n",
    "            \n",
    "            # Save results to CSV\n",
    "            for run, result in enumerate(timing_results, start=1):\n",
    "                writer.writerow([name, l, dyadic_order, run, result / execs])"
   ]
  },
  {
   "cell_type": "code",
   "execution_count": 53,
   "metadata": {},
   "outputs": [
    {
     "name": "stdout",
     "output_type": "stream",
     "text": [
      "Length: 16"
     ]
    },
    {
     "name": "stderr",
     "output_type": "stream",
     "text": [
      "/home/paperspace/.local/lib/python3.9/site-packages/numba/cuda/dispatcher.py:536: NumbaPerformanceWarning: \u001b[1mGrid size 10 will likely result in GPU under-utilization due to low occupancy.\u001b[0m\n",
      "  warn(NumbaPerformanceWarning(msg))\n"
     ]
    },
    {
     "name": "stdout",
     "output_type": "stream",
     "text": [
      "Length: 1023"
     ]
    }
   ],
   "source": [
    "torch.manual_seed(42)\n",
    "\n",
    "if torch.cuda.is_available():\n",
    "    torch.cuda.manual_seed(42)\n",
    "    torch.cuda.manual_seed_all(42)\n",
    "\n",
    "dyadic_order = 0\n",
    "\n",
    "sig1 = sigkernel.SigKernel(sigkernel.LinearKernel(0.05), dyadic_order = dyadic_order)\n",
    "\n",
    "lengths = t = [16 * 2**i for i in range(6)]\n",
    "lengths.append(1023)\n",
    "\n",
    "execs = 100\n",
    "reps = 10\n",
    "\n",
    "with open(\"../speciale/rplots/bench_gpu_cpu.csv\", \"w\", newline=\"\") as file:\n",
    "    writer = csv.writer(file)\n",
    "    writer.writerow([\"Implementation\", \"Length\", \"Dyadic Order\", \"Run\", \"Result\"])\n",
    "      \n",
    "    for l in lengths:\n",
    "        print(f\"\\rLength: {l}\", end=\"\")\n",
    "        \n",
    "        x = generate(10, l, 7, device = torch.device('cuda:0'))\n",
    "        x_h = x.cpu()\n",
    "        \n",
    "        impl = {\n",
    "            \"Baseline - CPU\": lambda: sig1.compute_kernel(x_h, x_h),\n",
    "            \"Baseline - GPU\": lambda: sig1.compute_kernel(x, x)\n",
    "        }\n",
    "        \n",
    "        for name, func in impl.items():\n",
    "            # Use timeit with the function directly\n",
    "            timing_results = timeit.repeat(func, number=execs, repeat=reps)\n",
    "            \n",
    "            # Save results to CSV\n",
    "            for run, result in enumerate(timing_results, start=1):\n",
    "                writer.writerow([name, l, dyadic_order, run, result / execs])"
   ]
  },
  {
   "cell_type": "code",
   "execution_count": 46,
   "metadata": {},
   "outputs": [
    {
     "name": "stdout",
     "output_type": "stream",
     "text": [
      "Order: 4"
     ]
    }
   ],
   "source": [
    "orders = [0, 1, 2, 3, 4]\n",
    "\n",
    "with open(\"../speciale/rplots/bench_gpu_mem.csv\", \"w\", newline=\"\") as file:\n",
    "    writer = csv.writer(file)\n",
    "    writer.writerow([\"Implementation\", \"Length\", \"Dyadic Order\", \"Result\"])\n",
    "    \n",
    "    x = generate(100, 64, 7, device = torch.device('cuda:0'))\n",
    "    \n",
    "    for ord in orders:\n",
    "        print(f\"\\rOrder: {ord}\", end=\"\")\n",
    "        sig = sigkernel2.SigKernel(sigkernel2.LinearKernel(0.05), ord)\n",
    "        sig1 = sigkernel.SigKernel(sigkernel.LinearKernel(0.05), ord)\n",
    "        \n",
    "        impl = {\n",
    "            \"Baseline\": lambda: sig1.compute_kernel(x, x),\n",
    "            \"Improved\": lambda: sig.compute_kernel(x, x, lean=True)\n",
    "        }\n",
    "        \n",
    "        for name, func in impl.items():\n",
    "            # Use timeit with the function directly\n",
    "            result = bench_memory(func)\n",
    "            \n",
    "            writer.writerow([name, 128, ord, result]) "
   ]
  },
  {
   "cell_type": "code",
   "execution_count": 9,
   "metadata": {},
   "outputs": [
    {
     "name": "stdout",
     "output_type": "stream",
     "text": [
      "Length: 1023"
     ]
    },
    {
     "name": "stderr",
     "output_type": "stream",
     "text": [
      "/home/paperspace/.local/lib/python3.9/site-packages/numba/cuda/dispatcher.py:536: NumbaPerformanceWarning: \u001b[1mGrid size 100 will likely result in GPU under-utilization due to low occupancy.\u001b[0m\n",
      "  warn(NumbaPerformanceWarning(msg))\n"
     ]
    }
   ],
   "source": [
    "lengths = [16, 32, 64, 128, 256, 512, 1023]\n",
    "\n",
    "with open(\"../speciale/rplots/bench_gpu_mem_len.csv\", \"w\", newline=\"\") as file:\n",
    "    writer = csv.writer(file)\n",
    "    writer.writerow([\"Implementation\", \"Length\", \"Dyadic Order\", \"Result\"])\n",
    "    \n",
    "    for l in lengths:\n",
    "        print(f\"\\rLength: {l}\", end=\"\")\n",
    "        x = generate(100, l, 7, device = torch.device('cuda:0'))\n",
    "        sig = sigkernel2.SigKernel(sigkernel2.LinearKernel(0.05), 0)\n",
    "        sig1 = sigkernel.SigKernel(sigkernel.LinearKernel(0.05), 0)\n",
    "        \n",
    "        impl = {\n",
    "            \"Baseline\": lambda: sig1.compute_kernel(x, x),\n",
    "            \"Improved\": lambda: sig.compute_kernel(x, x, lean=True)\n",
    "        }\n",
    "        \n",
    "        for name, func in impl.items():\n",
    "            # Use timeit with the function directly\n",
    "            result = bench_memory(func)\n",
    "            \n",
    "            writer.writerow([name, l, 0, result]) "
   ]
  },
  {
   "cell_type": "code",
   "execution_count": 10,
   "metadata": {},
   "outputs": [
    {
     "name": "stdout",
     "output_type": "stream",
     "text": [
      "Obs: 868"
     ]
    },
    {
     "name": "stderr",
     "output_type": "stream",
     "text": [
      "/home/paperspace/.local/lib/python3.9/site-packages/numba/cuda/dispatcher.py:536: NumbaPerformanceWarning: \u001b[1mGrid size 64 will likely result in GPU under-utilization due to low occupancy.\u001b[0m\n",
      "  warn(NumbaPerformanceWarning(msg))\n"
     ]
    }
   ],
   "source": [
    "torch.manual_seed(42)\n",
    "\n",
    "if torch.cuda.is_available():\n",
    "    torch.cuda.manual_seed(42)\n",
    "    torch.cuda.manual_seed_all(42)\n",
    "\n",
    "dyadic_order = 0\n",
    "\n",
    "sig1 = sigkernel.SigKernel(sigkernel.LinearKernel(0.05), dyadic_order)\n",
    "sig3 = sigkernel2.SigKernel2(sigkernel2.LinearKernel(0.05), dyadic_order)\n",
    "\n",
    "obs = [512, 256, 128, 64, 32, 16, 8]\n",
    "l = 100\n",
    "\n",
    "execs = [5, 10, 15, 25, 50, 100, 200]\n",
    "reps = 10\n",
    "\n",
    "with open(\"../speciale/rplots/bench_gram_0.csv\", \"w\", newline=\"\") as file:\n",
    "    writer = csv.writer(file)\n",
    "    writer.writerow([\"Implementation\", \"Length\", \"Dyadic Order\", \"Obs\", \"Run\", \"Result\"])\n",
    "      \n",
    "    for o, exec in zip(obs, execs):\n",
    "        torch.cuda.empty_cache()\n",
    "        print(f\"\\rObs: {o}\", end=\"\")\n",
    "        \n",
    "        x = generate(o, l, 7, device = torch.device('cuda:0'))\n",
    "        \n",
    "        impl = {\n",
    "            \"Baseline - GPU\": lambda: sig1.compute_Gram(x, x, max_batch=172),\n",
    "            \"Improved - GPU\": lambda: sig3.gram(x, x, max_batch=172),\n",
    "            \"Improved - GPU symmetric\": lambda: sig3.gram(x, max_batch=172)\n",
    "        }\n",
    "        \n",
    "        for name, func in impl.items():\n",
    "            # Use timeit with the function directly\n",
    "            timing_results = timeit.repeat(func, number=exec, repeat=reps)\n",
    "            \n",
    "            # Save results to CSV\n",
    "            for run, result in enumerate(timing_results, start=1):\n",
    "                writer.writerow([name, l, dyadic_order, o, run, result / exec])"
   ]
  },
  {
   "cell_type": "code",
   "execution_count": 6,
   "metadata": {},
   "outputs": [
    {
     "name": "stdout",
     "output_type": "stream",
     "text": [
      "Obs: 128"
     ]
    },
    {
     "name": "stderr",
     "output_type": "stream",
     "text": [
      "/home/paperspace/.local/lib/python3.9/site-packages/numba/cuda/dispatcher.py:536: NumbaPerformanceWarning: \u001b[1mGrid size 64 will likely result in GPU under-utilization due to low occupancy.\u001b[0m\n",
      "  warn(NumbaPerformanceWarning(msg))\n"
     ]
    },
    {
     "name": "stdout",
     "output_type": "stream",
     "text": [
      "Obs: 512"
     ]
    }
   ],
   "source": [
    "obs = [8, 16, 32, 64, 128, 256, 512]\n",
    "l = 100\n",
    "\n",
    "with open(\"../speciale/rplots/bench_gram_mem_obs.csv\", \"w\", newline=\"\") as file:\n",
    "    writer = csv.writer(file)\n",
    "    writer.writerow([\"Implementation\", \"Length\", \"Dyadic Order\", \"Obs\", \"Result\"])\n",
    "    \n",
    "    for o in obs:\n",
    "        print(f\"\\rObs: {o}\", end=\"\")\n",
    "        x = generate(o, l, 7, device = torch.device('cuda:0'))\n",
    "        sig1 = sigkernel.SigKernel(sigkernel.LinearKernel(0.05), 0)\n",
    "        sig3 = sigkernel2.SigKernel2(sigkernel2.LinearKernel(0.05), 0)\n",
    "        \n",
    "        impl = {\n",
    "            \"Baseline - GPU\": lambda: sig1.compute_Gram(x, x, max_batch=172),\n",
    "            \"Improved - GPU\": lambda: sig3.gram(x, x, max_batch=172),\n",
    "            \"Improved - GPU symmetric\": lambda: sig3.gram(x, max_batch=172)\n",
    "        }\n",
    "        \n",
    "        for name, func in impl.items():\n",
    "            # Use timeit with the function directly\n",
    "            result = bench_memory(func)\n",
    "            \n",
    "            writer.writerow([name, l, 0, o, result]) "
   ]
  },
  {
   "cell_type": "code",
   "execution_count": 13,
   "metadata": {},
   "outputs": [
    {
     "name": "stdout",
     "output_type": "stream",
     "text": [
      " Dyadic order: 4"
     ]
    }
   ],
   "source": [
    "l = 32\n",
    "dyadic_orders = [0, 1, 2, 3, 4]\n",
    "\n",
    "with open(\"../speciale/rplots/bench_gram_mem_order.csv\", \"w\", newline=\"\") as file:\n",
    "    writer = csv.writer(file)\n",
    "    writer.writerow([\"Implementation\", \"Length\", \"Dyadic Order\", \"Result\"])\n",
    "    \n",
    "    for d in dyadic_orders:\n",
    "        print(f\"\\r Dyadic order: {d}\", end=\"\")\n",
    "        x = generate(32, l, 7, device = torch.device('cuda:0'))\n",
    "        sig1 = sigkernel.SigKernel(sigkernel.LinearKernel(0.05), d)\n",
    "        sig3 = sigkernel2.SigKernel2(sigkernel2.LinearKernel(0.05), d)\n",
    "        \n",
    "        impl = {\n",
    "            \"Baseline - GPU\": lambda: sig1.compute_Gram(x, x, max_batch=172),\n",
    "            \"Improved - GPU\": lambda: sig3.gram(x, x, max_batch=172),\n",
    "            \"Improved - GPU symmetric\": lambda: sig3.gram(x, max_batch=172)\n",
    "        }\n",
    "        \n",
    "        for name, func in impl.items():\n",
    "            # Use timeit with the function directly\n",
    "            result = bench_memory(func)\n",
    "            \n",
    "            writer.writerow([name, l, d, result]) "
   ]
  },
  {
   "cell_type": "code",
   "execution_count": 6,
   "metadata": {},
   "outputs": [],
   "source": [
    "def thin_seq(x, id):\n",
    "    l = x.shape[1]\n",
    "    for i in range(x.shape[0]):\n",
    "        ii = id[i]\n",
    "        x[i, ii:l, :] = x[i, ii, :]\n",
    "    return x    \n",
    "    \n",
    "idx = pd.read_csv(\"../speciale/rplots/test_idx.csv\").squeeze()\n",
    "idx = torch.tensor(idx.values, dtype=torch.int32) - 1"
   ]
  },
  {
   "cell_type": "code",
   "execution_count": 7,
   "metadata": {},
   "outputs": [
    {
     "name": "stdout",
     "output_type": "stream",
     "text": [
      "Obs: 8name: Baseline - GPUUUname: Improved - GPUname: Improved - GPU symmetricname: Improved - GPUname: Improved - GPU symmetricname: Improved - GPUname: Improved - GPU symmetricname: Improved - GPUname: Improved - GPU symmetricname: Improved - GPUname: Improved - GPU symmetricname: Improved - GPUname: Improved - GPU symmetric"
     ]
    },
    {
     "name": "stderr",
     "output_type": "stream",
     "text": [
      "/home/paperspace/.local/lib/python3.9/site-packages/numba/cuda/dispatcher.py:536: NumbaPerformanceWarning: \u001b[1mGrid size 64 will likely result in GPU under-utilization due to low occupancy.\u001b[0m\n",
      "  warn(NumbaPerformanceWarning(msg))\n"
     ]
    },
    {
     "name": "stdout",
     "output_type": "stream",
     "text": [
      "name: Improved - GPUname: Improved - GPU symmetric"
     ]
    }
   ],
   "source": [
    "torch.manual_seed(42)\n",
    "\n",
    "if torch.cuda.is_available():\n",
    "    torch.cuda.manual_seed(42)\n",
    "    torch.cuda.manual_seed_all(42)\n",
    "\n",
    "dyadic_order = 0\n",
    "\n",
    "sig1 = sigkernel.SigKernel(sigkernel.LinearKernel(0.05), dyadic_order)\n",
    "sig3 = sigkernel2.SigKernel2(sigkernel2.LinearKernel(0.05), dyadic_order)\n",
    "\n",
    "obs = [512, 256, 128, 64, 32, 16, 8]\n",
    "l = 100\n",
    "\n",
    "execs = [2, 7, 12, 16, 35, 60, 100]\n",
    "reps = 5\n",
    "\n",
    "with open(\"../speciale/rplots/bench_gram_0_var.csv\", \"w\", newline=\"\") as file:\n",
    "    writer = csv.writer(file)\n",
    "    writer.writerow([\"Implementation\", \"Length\", \"Dyadic Order\", \"Obs\", \"Run\", \"Result\"])\n",
    "      \n",
    "    for o, exec in zip(obs, execs):\n",
    "        torch.cuda.empty_cache()\n",
    "        print(f\"\\rObs: {o}\", end=\"\")\n",
    "        \n",
    "        x = generate(o, idx[0:o].max() + 1, 7, device = torch.device('cuda:0'))\n",
    "        x = thin_seq(x, idx)\n",
    "        \n",
    "        impl = {\n",
    "            \"Baseline - GPU\": lambda: sig1.compute_Gram(x, x, max_batch=75),\n",
    "            \"Improved - GPU\": lambda: sig3.gram(x, x, max_batch=75),\n",
    "            \"Improved - GPU symmetric\": lambda: sig3.gram(x, max_batch=75)\n",
    "        }\n",
    "        \n",
    "        for name, func in impl.items():\n",
    "            torch.cuda.empty_cache()\n",
    "            print(f\"name: {name}\", end=\"\")\n",
    "            # Use timeit with the function directly\n",
    "            timing_results = timeit.repeat(func, number=exec, repeat=reps)\n",
    "            \n",
    "            # Save results to CSV\n",
    "            for run, result in enumerate(timing_results, start=1):\n",
    "                writer.writerow([name, l, dyadic_order, o, run, result / exec])"
   ]
  }
 ],
 "metadata": {
  "kernelspec": {
   "display_name": "Python 3",
   "language": "python",
   "name": "python3"
  },
  "language_info": {
   "codemirror_mode": {
    "name": "ipython",
    "version": 3
   },
   "file_extension": ".py",
   "mimetype": "text/x-python",
   "name": "python",
   "nbconvert_exporter": "python",
   "pygments_lexer": "ipython3",
   "version": "3.9.20"
  }
 },
 "nbformat": 4,
 "nbformat_minor": 2
}
